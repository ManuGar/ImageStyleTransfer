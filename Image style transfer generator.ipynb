{
 "cells": [
  {
   "cell_type": "markdown",
   "metadata": {},
   "source": [
    "# Image style transfer generator\n",
    "\n",
    "In this notebook we are going to transform the style of a given dataset. To do this, we need two different datsets, the dataset that we want to change style and another dataset to know which style we want to obtain.\n",
    "\n",
    "To make this change of styles, we have several options available. The user will have to choose the method they want to use to carry out this style change and the notebook takes care of the necessary operations.\n",
    "\n",
    "\n",
    "The available algorithms are:\n",
    "- upit\n",
    "- DIA (Deep Image Analogy)\n",
    "- nst (Neural style transfer)\n",
    "- strotss\n",
    "- dualGAN\n",
    "- forkGAN\n",
    "- ganilla\n",
    "- CUT\n",
    "- fastCUT"
   ]
  },
  {
   "cell_type": "code",
   "execution_count": 4,
   "metadata": {},
   "outputs": [],
   "source": [
    "algorithm = 'strotss'\n",
    "dataset_name = 'esferoides'\n",
    "output_path = 'output'"
   ]
  },
  {
   "cell_type": "code",
   "execution_count": 5,
   "metadata": {},
   "outputs": [],
   "source": [
    "import os\n",
    "if (not os.path.exists(output_path)):\n",
    "    os.makedirs(output_path)"
   ]
  },
  {
   "cell_type": "code",
   "execution_count": 6,
   "metadata": {
    "scrolled": false
   },
   "outputs": [],
   "source": [
    "import algorithms\n",
    "algorithms.generate_images(algorithm, dataset_name, output_path)"
   ]
  },
  {
   "cell_type": "code",
   "execution_count": null,
   "metadata": {},
   "outputs": [],
   "source": []
  }
 ],
 "metadata": {
  "kernelspec": {
   "display_name": "Python 3",
   "language": "python",
   "name": "python3"
  },
  "language_info": {
   "codemirror_mode": {
    "name": "ipython",
    "version": 3
   },
   "file_extension": ".py",
   "mimetype": "text/x-python",
   "name": "python",
   "nbconvert_exporter": "python",
   "pygments_lexer": "ipython3",
   "version": "3.6.7"
  }
 },
 "nbformat": 4,
 "nbformat_minor": 4
}
